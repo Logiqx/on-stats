{
 "cells": [
  {
   "cell_type": "markdown",
   "metadata": {},
   "source": [
    "## Log-Normal Test\n",
    "\n",
    "Check whether the number of daily COVID attributed deaths are log-normal\n",
    "\n",
    "Code taken from https://stats.stackexchange.com/questions/134924/tests-for-lognormal-distribution"
   ]
  },
  {
   "cell_type": "code",
   "execution_count": 49,
   "metadata": {},
   "outputs": [],
   "source": [
    "import os, sys\n",
    "\n",
    "projdir = os.path.realpath(os.path.join(sys.path[0], '..'))"
   ]
  },
  {
   "cell_type": "code",
   "execution_count": 50,
   "metadata": {},
   "outputs": [],
   "source": [
    "from scipy import stats\n",
    "\n",
    "def isNormal(df):\n",
    "    p = stats.mstats.normaltest(df).pvalue\n",
    "    print(p)\n",
    "    if p >= 0.01:\n",
    "       return True\n",
    "    else:\n",
    "       return False"
   ]
  },
  {
   "cell_type": "code",
   "execution_count": 53,
   "metadata": {},
   "outputs": [],
   "source": [
    "import numpy\n",
    "\n",
    "def isLogNormal(df):\n",
    "    p = stats.mstats.normaltest(df.apply(lambda x:numpy.exp(x)), axis=0).pvalue\n",
    "    print(p)\n",
    "    if p >= 0.01:\n",
    "       return True\n",
    "    else:\n",
    "       return False"
   ]
  },
  {
   "cell_type": "code",
   "execution_count": 54,
   "metadata": {},
   "outputs": [
    {
     "name": "stdout",
     "output_type": "stream",
     "text": [
      "[1.88106107e-05]\n",
      "[2.75107136e-05]\n",
      "daily_covid_deaths.csv is neither normal or log-normal\n"
     ]
    }
   ],
   "source": [
    "import pandas\n",
    "\n",
    "def testFile(fn):\n",
    "    df = pandas.read_csv(os.path.join(projdir, 'data', fn))\n",
    "    if isNormal(df):\n",
    "       print('{} is normal'.format(fn))   \n",
    "    elif isLogNormal(df):\n",
    "       print('{} is log-normal'.format(fn))\n",
    "    else:\n",
    "       print('{} is neither normal or log-normal'.format(fn))\n",
    "\n",
    "testFile('daily_covid_deaths.csv')"
   ]
  },
  {
   "cell_type": "code",
   "execution_count": null,
   "metadata": {},
   "outputs": [],
   "source": []
  }
 ],
 "metadata": {
  "kernelspec": {
   "display_name": "Python 3",
   "language": "python",
   "name": "python3"
  },
  "language_info": {
   "codemirror_mode": {
    "name": "ipython",
    "version": 3
   },
   "file_extension": ".py",
   "mimetype": "text/x-python",
   "name": "python",
   "nbconvert_exporter": "python",
   "pygments_lexer": "ipython3",
   "version": "3.7.3"
  }
 },
 "nbformat": 4,
 "nbformat_minor": 2
}
