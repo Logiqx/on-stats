{
 "cells": [
  {
   "cell_type": "markdown",
   "metadata": {},
   "source": [
    "## Determine Shift Params\n",
    "   \n",
    "Determine best shift parameters to align weekly death registrations with occurrences"
   ]
  },
  {
   "cell_type": "code",
   "execution_count": 1,
   "metadata": {},
   "outputs": [],
   "source": [
    "import os, sys\n",
    "\n",
    "projdir = os.path.realpath(os.path.join(sys.path[0], '..'))"
   ]
  },
  {
   "cell_type": "code",
   "execution_count": 2,
   "metadata": {},
   "outputs": [],
   "source": [
    "import csv\n",
    "\n",
    "def readCsv(fn):\n",
    "    records = []\n",
    "\n",
    "    with open(os.path.join(projdir, 'data', fn)) as f:\n",
    "        line = f.readline()\n",
    "        while line:\n",
    "            fields = line.strip().split(',')\n",
    "            records.append((fields[0], int(fields[1])))\n",
    "            line = f.readline()\n",
    "\n",
    "    return(records)\n",
    "\n",
    "weekly_occ = readCsv('ons_weekly_death_occurrences.csv')\n",
    "weekly_reg = readCsv('ons_weekly_death_registrations.csv')"
   ]
  },
  {
   "cell_type": "code",
   "execution_count": 3,
   "metadata": {},
   "outputs": [],
   "source": [
    "# Check that the two files contain matching dates, allowing for simplified logic below\n",
    "for i in range(len(weekly_occ)):\n",
    "    if weekly_reg[i][0] != weekly_occ[i][0]:\n",
    "        print('Date mismatch')"
   ]
  },
  {
   "cell_type": "code",
   "execution_count": 4,
   "metadata": {},
   "outputs": [
    {
     "name": "stdout",
     "output_type": "stream",
     "text": [
      "Optimal: 0.47/0.53 = 533.25\n",
      "\n"
     ]
    }
   ],
   "source": [
    "import math\n",
    "\n",
    "def calculate_rms_error(pct0, pct1):\n",
    "\n",
    "    rms_tmp = 0\n",
    "    rms_count = 0\n",
    "    \n",
    "    for i in range(len(weekly_occ)):\n",
    "        actual = weekly_occ[i][1]\n",
    "        derived = pct0 * weekly_reg[i][1] + pct1 * weekly_reg[i + 1][1]\n",
    "\n",
    "        rms_tmp += (derived - actual) * (derived - actual)\n",
    "        rms_count += 1\n",
    "        \n",
    "    rms_error = math.sqrt(rms_tmp / rms_count)\n",
    "    \n",
    "    return rms_error\n",
    "\n",
    "\n",
    "# Initialisation\n",
    "min_rms_error = float(\"inf\")\n",
    "results = []\n",
    "\n",
    "# Iterate through all possible parameters\n",
    "for p0 in reversed(range(101)):\n",
    "    pct0 = p0 / 100\n",
    "    pct1 = 1 - pct0\n",
    "\n",
    "    rms_error = calculate_rms_error(pct0, pct1)\n",
    "    results.append(((pct0, pct1), rms_error))\n",
    "\n",
    "    if (rms_error < min_rms_error):\n",
    "        min_rms_error = rms_error\n",
    "        best_pct = (pct0, pct1)\n",
    "\n",
    "# Report best result\n",
    "print('Optimal: {:0.2f}/{:0.2f} = {:0.2f}\\n'.format(best_pct[0], best_pct[1], min_rms_error))\n",
    "\n",
    "# List all results\n",
    "for result in results:\n",
    "    if result[1] == min_rms_error:\n",
    "        highlight = ' *'\n",
    "    else:\n",
    "        highlight = ''\n",
    "\n",
    "    #print('{:0.2f}/{:0.2f} = {:0.2f}{}'.format(result[0][0], result[0][1], result[1], highlight))"
   ]
  },
  {
   "cell_type": "code",
   "execution_count": 5,
   "metadata": {},
   "outputs": [
    {
     "name": "stdout",
     "output_type": "stream",
     "text": [
      "Optimal: 0.35/0.29/0.36 = 369.31\n",
      "\n"
     ]
    }
   ],
   "source": [
    "import math\n",
    "\n",
    "def calculate_rms_error(pct0, pct1, pct2):\n",
    "\n",
    "    rms_tmp = 0\n",
    "    rms_count = 0\n",
    "    \n",
    "    for i in range(len(weekly_occ)):\n",
    "        actual = weekly_occ[i][1]\n",
    "        derived = pct0 * weekly_reg[i][1] + pct1 * weekly_reg[i + 1][1] + pct2 * weekly_reg[i + 2][1]\n",
    "\n",
    "        rms_tmp += (derived - actual) * (derived - actual)\n",
    "        rms_count += 1\n",
    "        \n",
    "    rms_error = math.sqrt(rms_tmp / rms_count)\n",
    "    \n",
    "    return rms_error\n",
    "\n",
    "    \n",
    "# Initialisation\n",
    "min_rms_error = float(\"inf\")\n",
    "results = []\n",
    "\n",
    "# Iterate through all possible parameters\n",
    "for p0 in reversed(range(101)):\n",
    "    pct0 = p0 / 100\n",
    "    for p1 in reversed(range(101 - p0)):\n",
    "        pct1 = p1 / 100\n",
    "        pct2 = 1 - (pct0 + pct1)\n",
    "\n",
    "        rms_error = calculate_rms_error(pct0, pct1, pct2)\n",
    "        results.append(((pct0, pct1, pct2), rms_error))\n",
    "\n",
    "        if (rms_error < min_rms_error):\n",
    "            min_rms_error = rms_error\n",
    "            best_pct = (pct0, pct1, pct2)\n",
    "\n",
    "# Report best result\n",
    "print('Optimal: {:0.2f}/{:0.2f}/{:0.2f} = {:0.2f}\\n'.format(best_pct[0], best_pct[1], best_pct[2], min_rms_error))\n",
    "\n",
    "# List all results\n",
    "for result in results:\n",
    "    if result[1] == min_rms_error:\n",
    "        highlight = ' *'\n",
    "    else:\n",
    "        highlight = ''\n",
    "\n",
    "    #print('{:0.2f}/{:0.2f}/{:0.2f} = {:0.2f}{}'.format(result[0][0], result[0][1], result[0][2], result[1], highlight))"
   ]
  },
  {
   "cell_type": "code",
   "execution_count": 6,
   "metadata": {},
   "outputs": [
    {
     "name": "stdout",
     "output_type": "stream",
     "text": [
      "Optimal: 0.29/0.27/0.26/0.18 = 323.64\n",
      "\n"
     ]
    }
   ],
   "source": [
    "import math\n",
    "\n",
    "def calculate_rms_error(pct0, pct1, pct2, pct3):\n",
    "\n",
    "    rms_tmp = 0\n",
    "    rms_count = 0\n",
    "    \n",
    "    for i in range(len(weekly_occ)):\n",
    "        actual = weekly_occ[i][1]\n",
    "        derived = pct0 * weekly_reg[i][1] + pct1 * weekly_reg[i + 1][1] + pct2 * weekly_reg[i + 2][1] + pct3 * weekly_reg[i + 3][1]\n",
    "\n",
    "        rms_tmp += (derived - actual) * (derived - actual)\n",
    "        rms_count += 1\n",
    "        \n",
    "    rms_error = math.sqrt(rms_tmp / rms_count)\n",
    "    \n",
    "    return rms_error\n",
    "\n",
    "    \n",
    "# Initialisation\n",
    "min_rms_error = float(\"inf\")\n",
    "results = []\n",
    "\n",
    "# Iterate through all possible parameters\n",
    "for p0 in reversed(range(101)):\n",
    "    pct0 = p0 / 100\n",
    "    for p1 in reversed(range(101 - p0)):\n",
    "        pct1 = p1 / 100\n",
    "        for p2 in reversed(range(101 - (p0 + p1))):\n",
    "            pct2 = p2 / 100\n",
    "            pct3 = 1 - (pct0 + pct1 + pct2)\n",
    "\n",
    "            rms_error = calculate_rms_error(pct0, pct1, pct2, pct3)\n",
    "            results.append(((pct0, pct1, pct2, pct3), rms_error))\n",
    "\n",
    "            if (rms_error < min_rms_error):\n",
    "                min_rms_error = rms_error\n",
    "                best_pct = (pct0, pct1, pct2, pct3)\n",
    "\n",
    "# Report best result\n",
    "print('Optimal: {:0.2f}/{:0.2f}/{:0.2f}/{:0.2f} = {:0.2f}\\n'.format(best_pct[0], best_pct[1], best_pct[2], best_pct[3], min_rms_error))\n",
    "\n",
    "# List all results\n",
    "for result in results:\n",
    "    if result[1] == min_rms_error:\n",
    "        highlight = ' *'\n",
    "    else:\n",
    "        highlight = ''\n",
    "\n",
    "    #print('{:0.2f}/{:0.2f}/{:0.2f} = {:0.2f}{}'.format(result[0][0], result[0][1], result[0][2], result[1], highlight))"
   ]
  },
  {
   "cell_type": "code",
   "execution_count": null,
   "metadata": {},
   "outputs": [],
   "source": []
  }
 ],
 "metadata": {
  "kernelspec": {
   "display_name": "Python 3",
   "language": "python",
   "name": "python3"
  },
  "language_info": {
   "codemirror_mode": {
    "name": "ipython",
    "version": 3
   },
   "file_extension": ".py",
   "mimetype": "text/x-python",
   "name": "python",
   "nbconvert_exporter": "python",
   "pygments_lexer": "ipython3",
   "version": "3.7.3"
  }
 },
 "nbformat": 4,
 "nbformat_minor": 2
}
